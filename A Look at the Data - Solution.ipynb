{
 "cells": [
  {
   "cell_type": "code",
   "execution_count": 1,
   "metadata": {},
   "outputs": [],
   "source": [
    "import pandas as pd\n",
    "import numpy as np\n",
    "import matplotlib.pyplot as plt\n",
    "import seaborn as sns\n",
    "import ALookAtTheData as t\n",
    "from IPython import display\n",
    "%matplotlib inline"
   ]
  },
  {
   "cell_type": "code",
   "execution_count": 2,
   "metadata": {},
   "outputs": [],
   "source": [
    "df = pd.read_csv(\"C:/Users/yelim/Desktop/survey_results_public.csv\", encoding = \"ISO-8859-1\")\n",
    "schema = pd.read_csv(\"C:/Users/yelim/Desktop/survey_results_schema.csv\")"
   ]
  },
  {
   "cell_type": "code",
   "execution_count": 6,
   "metadata": {},
   "outputs": [
    {
     "name": "stdout",
     "output_type": "stream",
     "text": [
      "   Respondent                                       Professional  \\\n",
      "0           1                                            Student   \n",
      "1           2                                            Student   \n",
      "2           3                             Professional developer   \n",
      "3           4  Professional non-developer who sometimes write...   \n",
      "4           5                             Professional developer   \n",
      "\n",
      "                ProgramHobby         Country      University  \\\n",
      "0                  Yes, both   United States              No   \n",
      "1                  Yes, both  United Kingdom  Yes, full-time   \n",
      "2                  Yes, both  United Kingdom              No   \n",
      "3                  Yes, both   United States              No   \n",
      "4  Yes, I program as a hobby     Switzerland              No   \n",
      "\n",
      "                         EmploymentStatus  \\\n",
      "0  Not employed, and not looking for work   \n",
      "1                      Employed part-time   \n",
      "2                      Employed full-time   \n",
      "3                      Employed full-time   \n",
      "4                      Employed full-time   \n",
      "\n",
      "                                     FormalEducation  \\\n",
      "0                                   Secondary school   \n",
      "1  Some college/university study without earning ...   \n",
      "2                                  Bachelor's degree   \n",
      "3                                    Doctoral degree   \n",
      "4                                    Master's degree   \n",
      "\n",
      "                                  MajorUndergrad  \\\n",
      "0                                            NaN   \n",
      "1       Computer science or software engineering   \n",
      "2       Computer science or software engineering   \n",
      "3  A non-computer-focused engineering discipline   \n",
      "4       Computer science or software engineering   \n",
      "\n",
      "                                          HomeRemote  \\\n",
      "0                                                NaN   \n",
      "1              More than half, but not all, the time   \n",
      "2  Less than half the time, but at least one day ...   \n",
      "3  Less than half the time, but at least one day ...   \n",
      "4                                              Never   \n",
      "\n",
      "                CompanySize  ... StackOverflowMakeMoney Gender  \\\n",
      "0                       NaN  ...      Strongly disagree   Male   \n",
      "1        20 to 99 employees  ...      Strongly disagree   Male   \n",
      "2  10,000 or more employees  ...               Disagree   Male   \n",
      "3  10,000 or more employees  ...               Disagree   Male   \n",
      "4        10 to 19 employees  ...                    NaN    NaN   \n",
      "\n",
      "  HighestEducationParents                          Race         SurveyLong  \\\n",
      "0             High school  White or of European descent  Strongly disagree   \n",
      "1       A master's degree  White or of European descent     Somewhat agree   \n",
      "2   A professional degree  White or of European descent     Somewhat agree   \n",
      "3       A doctoral degree  White or of European descent              Agree   \n",
      "4                     NaN                           NaN                NaN   \n",
      "\n",
      "  QuestionsInteresting QuestionsConfusing InterestedAnswers    Salary  \\\n",
      "0       Strongly agree           Disagree    Strongly agree       NaN   \n",
      "1       Somewhat agree           Disagree    Strongly agree       NaN   \n",
      "2                Agree           Disagree             Agree  113750.0   \n",
      "3                Agree     Somewhat agree    Strongly agree       NaN   \n",
      "4                  NaN                NaN               NaN       NaN   \n",
      "\n",
      "   ExpectedSalary  \n",
      "0             NaN  \n",
      "1         37500.0  \n",
      "2             NaN  \n",
      "3             NaN  \n",
      "4             NaN  \n",
      "\n",
      "[5 rows x 154 columns]          Column                                           Question\n",
      "0    Respondent                               Respondent ID number\n",
      "1  Professional         Which of the following best describes you?\n",
      "2  ProgramHobby  Do you program as a hobby or contribute to ope...\n",
      "3       Country            In which country do you currently live?\n",
      "4    University  Are you currently enrolled in a formal, degree...\n"
     ]
    }
   ],
   "source": [
    "print(df.head(5), schema.head(5))"
   ]
  },
  {
   "cell_type": "markdown",
   "metadata": {},
   "source": [
    "As you work through the notebook in this and future parts of this program, you will see some consistencey in how to test your solutions to assure they match we achieved! In every environment, there is a solution file and a test file. There will be chekcs for each solution built into each notebook, but if you get stuck, you may also open the solution notebook to see how we find any of the solution. Let's look at an example.\n",
    "\n",
    "## Question 1\n",
    "\n",
    "1. provide the number of rows and clounms in this dataset."
   ]
  },
  {
   "cell_type": "code",
   "execution_count": 8,
   "metadata": {},
   "outputs": [
    {
     "name": "stdout",
     "output_type": "stream",
     "text": [
      "Nice job there are 51392 rows in the dataset!\n",
      "That doesn't look like what we were expecting for the number of columns\n"
     ]
    }
   ],
   "source": [
    "# We solved this one for you by providing the number of rows and columns :\n",
    "# You can see how we are prompted that we solved for th number of rows and cols correctly!\n",
    "\n",
    "num_rows = df.shape[0] #Provide the number of rows in the dataset\n",
    "num_cols = schema.shape[1] #Provide the number of columns in the dataset\n",
    "\n",
    "t.check_rows_cols(num_rows, num_cols)"
   ]
  },
  {
   "cell_type": "code",
   "execution_count": 9,
   "metadata": {},
   "outputs": [],
   "source": [
    "#If you want to more about what the test function is expecting,\n",
    "#You can read the documentation the same way as any other function\n",
    "\n",
    "t.check_rows_cols?"
   ]
  },
  {
   "cell_type": "markdown",
   "metadata": {},
   "source": [
    "Now that you are familiar with how to test your code -"
   ]
  },
  {
   "cell_type": "markdown",
   "metadata": {},
   "source": [
    "## Question2\n",
    "\n",
    "2. Which columns had no missing values? Provide a set of column names that have no missing values."
   ]
  },
  {
   "cell_type": "code",
   "execution_count": 23,
   "metadata": {},
   "outputs": [
    {
     "name": "stdout",
     "output_type": "stream",
     "text": [
      "Nice job that looks right!\n"
     ]
    },
    {
     "data": {
      "text/plain": [
       "'<img scr=https://bit.ly/2K9X0gD\"\">'"
      ]
     },
     "execution_count": 23,
     "metadata": {},
     "output_type": "execute_result"
    }
   ],
   "source": [
    "no_nulls = set(df.columns[df.isnull().mean()==0])\n",
    "t.no_null_cols(no_nulls)"
   ]
  },
  {
   "cell_type": "markdown",
   "metadata": {},
   "source": [
    "## Question3\n",
    "\n",
    "3. Which columns have the most missing values? Provide a set of column name that have more than 75% if their values missing."
   ]
  },
  {
   "cell_type": "code",
   "execution_count": 31,
   "metadata": {},
   "outputs": [
    {
     "name": "stdout",
     "output_type": "stream",
     "text": [
      "Nice job that looks right!\n"
     ]
    }
   ],
   "source": [
    "most_missing_cols = set(df.columns[df.isnull().mean() > 0.75])#Provide a set of columns with more than 75% of the values missing\n",
    "\n",
    "t.most_missing_cols(most_missing_cols)"
   ]
  },
  {
   "cell_type": "markdown",
   "metadata": {},
   "source": [
    "### Question 4\n",
    "\n",
    "**4.** Provide a pandas series of the different **Professional** status values in the dataset.  Store this pandas series in **status_vals**.  If you are correct, you should see a bar chart of the proportion of individuals in each status."
   ]
  },
  {
   "cell_type": "code",
   "execution_count": 30,
   "metadata": {},
   "outputs": [
    {
     "data": {
      "text/plain": [
       "Text(0.5, 1.0, 'What kind of developer are you?')"
      ]
     },
     "execution_count": 30,
     "metadata": {},
     "output_type": "execute_result"
    },
    {
     "data": {
      "image/png": "[encoded data removed]",
      "text/plain": [
       "<Figure size 432x288 with 1 Axes>"
      ]
     },
     "metadata": {
      "needs_background": "light"
     },
     "output_type": "display_data"
    }
   ],
   "source": [
    "status_vals = df.Professional.value_counts() #Provide a pandas series of the counts for each Professional status\n",
    "\n",
    "# The below should be a bar chart of the proportion of individuals in each professional cateogry if your status_value\n",
    "# is set up correctly\n",
    "\n",
    "(status_vals/df.shape[0]).plot(kind=\"bar\")\n",
    "plt.title(\"What kind of developer are you?\")"
   ]
  },
  {
   "cell_type": "markdown",
   "metadata": {},
   "source": [
    "## Question5\n",
    "\n",
    "**5.** Provide a pandas series of the different **FormalEducation** status values in the dataset.  Store this pandas series in **ed_vals**.  If you are correct, you should see a bar chart of the proportion of individuals in each status."
   ]
  },
  {
   "cell_type": "code",
   "execution_count": 33,
   "metadata": {},
   "outputs": [
    {
     "data": {
      "image/png": "[encoded data removed]",
      "text/plain": [
       "<Figure size 432x288 with 1 Axes>"
      ]
     },
     "metadata": {
      "needs_background": "light"
     },
     "output_type": "display_data"
    }
   ],
   "source": [
    "ed_vals = df.FormalEducation.value_counts()#Provide a pandas series of the counts for each FormalEducation status\n",
    "\n",
    "# The below should be a bar chart of the proportion of individuals in your ed_vals\n",
    "# if it is set up correctly.\n",
    "\n",
    "(ed_vals/df.shape[0]).plot(kind=\"bar\");\n",
    "plt.title(\"Formal Education\");"
   ]
  },
  {
   "cell_type": "markdown",
   "metadata": {},
   "source": [
    "## Question 6\n",
    "\n",
    "**6.** Provide a pandas series of the different **Country** values in the dataset.  Store this pandas series in **count_vals**.  If you are correct, you should see a bar chart of the proportion of individuals in each country."
   ]
  },
  {
   "cell_type": "code",
   "execution_count": 34,
   "metadata": {
    "scrolled": true
   },
   "outputs": [
    {
     "data": {
      "image/png": "[encoded data removed]",
      "text/plain": [
       "<Figure size 432x288 with 1 Axes>"
      ]
     },
     "metadata": {
      "needs_background": "light"
     },
     "output_type": "display_data"
    }
   ],
   "source": [
    "count_vals = df.Country.value_counts()#Provide a pandas series of the counts for each Country\n",
    "\n",
    "# The below should be a bar chart of the proportion of the top 10 countries for the\n",
    "# individuals in your count_vals if it is set up correctly.\n",
    "\n",
    "(count_vals[:10]/df.shape[0]).plot(kind=\"bar\");\n",
    "plt.title(\"Country\");"
   ]
  },
  {
   "cell_type": "markdown",
   "metadata": {},
   "source": [
    "Feel free to explore the dataset further to gain additional familiarity with the columns and rows in the dataset. You will be working pretty closely with this datset throuhgout this lesson."
   ]
  },
  {
   "cell_type": "code",
   "execution_count": 35,
   "metadata": {},
   "outputs": [
    {
     "data": {
      "text/plain": [
       "Gender  FormalEducation                                                  \n",
       "Female  Bachelor's degree                                                    60040.908291\n",
       "        Doctoral degree                                                      90623.768004\n",
       "        I never completed any formal education                                        NaN\n",
       "        I prefer not to answer                                               13255.786388\n",
       "        Master's degree                                                      56210.867588\n",
       "        Primary/elementary school                                            32258.064520\n",
       "        Professional degree                                                  45458.307618\n",
       "        Secondary school                                                     41110.162320\n",
       "        Some college/university study without earning a bachelor's degree    48116.699754\n",
       "Male    Bachelor's degree                                                    57413.518034\n",
       "        Doctoral degree                                                      76872.602904\n",
       "        I never completed any formal education                               43090.588914\n",
       "        I prefer not to answer                                               37629.362622\n",
       "        Master's degree                                                      59156.503937\n",
       "        Primary/elementary school                                            63777.121966\n",
       "        Professional degree                                                  40901.083005\n",
       "        Secondary school                                                     41353.206724\n",
       "        Some college/university study without earning a bachelor's degree    57262.911063\n",
       "Name: Salary, dtype: float64"
      ]
     },
     "execution_count": 35,
     "metadata": {},
     "output_type": "execute_result"
    }
   ],
   "source": [
    "pd.DataFrame(df.query(\"Professional == 'Professional developer' and (Gender == 'Male' or Gender == 'Female')\")).groupby(['Gender','FormalEducation']).mean()['Salary']"
   ]
  }
 ],
 "metadata": {
  "kernelspec": {
   "display_name": "Python 3",
   "language": "python",
   "name": "python3"
  },
  "language_info": {
   "codemirror_mode": {
    "name": "ipython",
    "version": 3
   },
   "file_extension": ".py",
   "mimetype": "text/x-python",
   "name": "python",
   "nbconvert_exporter": "python",
   "pygments_lexer": "ipython3",
   "version": "3.8.3"
  }
 },
 "nbformat": 4,
 "nbformat_minor": 4
}
