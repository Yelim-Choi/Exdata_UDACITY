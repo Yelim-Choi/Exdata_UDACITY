{
 "cells": [
  {
   "cell_type": "code",
   "execution_count": 1,
   "metadata": {},
   "outputs": [],
   "source": [
    "import pandas as pd\n",
    "import numpy as np\n",
    "from collections import defaultdict\n",
    "import ALookAtTheDataSolns as s"
   ]
  },
  {
   "cell_type": "code",
   "execution_count": 2,
   "metadata": {},
   "outputs": [],
   "source": [
    "def display_gif(fn):\n",
    "    return '<img src=\"{}\">'.format(fn)"
   ]
  },
  {
   "cell_type": "code",
   "execution_count": 3,
   "metadata": {},
   "outputs": [],
   "source": [
    "## A Look at the Data\n",
    "# Question1\n",
    "\n",
    "def check_rows_cols(num_rows, num_cols):\n",
    "    '''\n",
    "    INPUT:\n",
    "    num_rows - int the number of rows in df\n",
    "    num_cols - int the number of cols in df\n",
    "    \n",
    "    This function will print a statement related to whether or not you provided the correct number of rows and columns of th dataset.\n",
    "    '''\n",
    "    if num_rows == s.num_rows:\n",
    "        print(\"Nice job there are {} rows in the dataset!\".format(num_rows))\n",
    "    else:\n",
    "        print(\"That doesn't look like what we were expecting for the number of rows.\")\n",
    "    if num_cols == s.num_cols:\n",
    "        print(\"Nice job there are {} columns in the dataset!\".format(num_cols))\n",
    "    else:\n",
    "        print(\"That doesn't look like what we were expecting for the number of columns\")\n",
    "    "
   ]
  },
  {
   "cell_type": "code",
   "execution_count": 6,
   "metadata": {},
   "outputs": [],
   "source": [
    "#Question2\n",
    "\n",
    "def no_null_cols(no_nulls):\n",
    "    '''\n",
    "    INPUT:\n",
    "    no_nulls -  a set of columns with no missing values\n",
    "    \n",
    "    This function will print a statement related to whether or not you provided the correct set of columns with no missing values\n",
    "    '''\n",
    "    if no_nulls == s.no_nulls:\n",
    "        print(\"Nice job that looks right!\")\n",
    "        return display_gif('https://bit.ly/2K9X0gD')\n",
    "    else:\n",
    "        print(\"That doesn't look like for the set of no nulls. There should be {} columns in your list\".format(len(s.no_nulls)))\n",
    "        return display_gif('https://bit.ly/2Hog74V')"
   ]
  },
  {
   "cell_type": "code",
   "execution_count": 5,
   "metadata": {},
   "outputs": [],
   "source": [
    "def most_missing_cols(most_missing_cols):\n",
    "    '''\n",
    "    INPUT:\n",
    "    most_missing_cols - a set of columns with more than 75% of the values in the column missing\n",
    "\n",
    "    This function will print a statement related to whether or not you provided the correct set of columns with more than 75% of the values in the column missing\n",
    "    '''\n",
    "    if most_missing_cols == s.most_missing_cols:\n",
    "        print(\"Nice job that looks right!\")\n",
    "    else:\n",
    "        print(\"That doesn't look like for the set of most nulls.  There should be {} columns in your list\".format(len(s.most_missing_cols)))\n"
   ]
  }
 ],
 "metadata": {
  "kernelspec": {
   "display_name": "Python 3",
   "language": "python",
   "name": "python3"
  },
  "language_info": {
   "codemirror_mode": {
    "name": "ipython",
    "version": 3
   },
   "file_extension": ".py",
   "mimetype": "text/x-python",
   "name": "python",
   "nbconvert_exporter": "python",
   "pygments_lexer": "ipython3",
   "version": "3.8.3"
  }
 },
 "nbformat": 4,
 "nbformat_minor": 4
}
